{
  "cells": [
    {
      "cell_type": "markdown",
      "metadata": {
        "id": "iYh5EnL7EjCI"
      },
      "source": [
        "### Importing tensorflow libraries"
      ]
    },
    {
      "cell_type": "code",
      "execution_count": null,
      "metadata": {
        "id": "PzfoyPS9HZdS"
      },
      "outputs": [],
      "source": [
        "from tensorflow import keras\n",
        "from keras.layers import Conv2D\n",
        "from keras import layers"
      ]
    },
    {
      "cell_type": "markdown",
      "metadata": {
        "id": "ECeZ8qqpExAV"
      },
      "source": [
        "### Loading the dataset"
      ]
    },
    {
      "cell_type": "code",
      "execution_count": null,
      "metadata": {
        "colab": {
          "base_uri": "https://localhost:8080/"
        },
        "id": "bbFjyrCiI9Og",
        "outputId": "fd434f67-d37f-4de6-a4dd-ac25de03c869"
      },
      "outputs": [
        {
          "name": "stdout",
          "output_type": "stream",
          "text": [
            "Downloading data from https://storage.googleapis.com/tensorflow/tf-keras-datasets/mnist.npz\n",
            "11493376/11490434 [==============================] - 0s 0us/step\n",
            "11501568/11490434 [==============================] - 0s 0us/step\n"
          ]
        }
      ],
      "source": [
        "train, test = keras.datasets.mnist.load_data()"
      ]
    },
    {
      "cell_type": "code",
      "execution_count": null,
      "metadata": {
        "id": "ltdGAioKJMmn"
      },
      "outputs": [],
      "source": [
        "X_train, y_train = train"
      ]
    },
    {
      "cell_type": "code",
      "execution_count": null,
      "metadata": {
        "id": "IijT8vjfJTzC"
      },
      "outputs": [],
      "source": [
        "X_test, y_test = test"
      ]
    },
    {
      "cell_type": "code",
      "execution_count": null,
      "metadata": {
        "colab": {
          "base_uri": "https://localhost:8080/"
        },
        "id": "MfBNk3cYOOcr",
        "outputId": "043173cd-d018-4599-e5a5-a59257c9531a"
      },
      "outputs": [
        {
          "data": {
            "text/plain": [
              "array([[  0,   0,   0,   0,   0,   0,   0,   0,   0,   0,   0,   0,   0,\n",
              "          0,   0,   0,   0,   0,   0,   0,   0,   0,   0,   0,   0,   0,\n",
              "          0,   0],\n",
              "       [  0,   0,   0,   0,   0,   0,   0,   0,   0,   0,   0,   0,   0,\n",
              "          0,   0,   0,   0,   0,   0,   0,   0,   0,   0,   0,   0,   0,\n",
              "          0,   0],\n",
              "       [  0,   0,   0,   0,   0,   0,   0,   0,   0,   0,   0,   0,   0,\n",
              "          0,   0,   0,   0,   0,   0,   0,   0,   0,   0,   0,   0,   0,\n",
              "          0,   0],\n",
              "       [  0,   0,   0,   0,   0,   0,   0,   0,   0,   0,   0,   0,   0,\n",
              "          0,   0,   0,   0,   0,   0,   0,   0,   0,   0,   0,   0,   0,\n",
              "          0,   0],\n",
              "       [  0,   0,   0,   0,   0,   0,   0,   0,   0,   0,   0,   0,   0,\n",
              "          0,   0,   0,   0,   0,   0,   0,   0,   0,   0,   0,   0,   0,\n",
              "          0,   0],\n",
              "       [  0,   0,   0,   0,   0,   0,   0,   0,   0,   0,   0,   0,   3,\n",
              "         18,  18,  18, 126, 136, 175,  26, 166, 255, 247, 127,   0,   0,\n",
              "          0,   0],\n",
              "       [  0,   0,   0,   0,   0,   0,   0,   0,  30,  36,  94, 154, 170,\n",
              "        253, 253, 253, 253, 253, 225, 172, 253, 242, 195,  64,   0,   0,\n",
              "          0,   0],\n",
              "       [  0,   0,   0,   0,   0,   0,   0,  49, 238, 253, 253, 253, 253,\n",
              "        253, 253, 253, 253, 251,  93,  82,  82,  56,  39,   0,   0,   0,\n",
              "          0,   0],\n",
              "       [  0,   0,   0,   0,   0,   0,   0,  18, 219, 253, 253, 253, 253,\n",
              "        253, 198, 182, 247, 241,   0,   0,   0,   0,   0,   0,   0,   0,\n",
              "          0,   0],\n",
              "       [  0,   0,   0,   0,   0,   0,   0,   0,  80, 156, 107, 253, 253,\n",
              "        205,  11,   0,  43, 154,   0,   0,   0,   0,   0,   0,   0,   0,\n",
              "          0,   0],\n",
              "       [  0,   0,   0,   0,   0,   0,   0,   0,   0,  14,   1, 154, 253,\n",
              "         90,   0,   0,   0,   0,   0,   0,   0,   0,   0,   0,   0,   0,\n",
              "          0,   0],\n",
              "       [  0,   0,   0,   0,   0,   0,   0,   0,   0,   0,   0, 139, 253,\n",
              "        190,   2,   0,   0,   0,   0,   0,   0,   0,   0,   0,   0,   0,\n",
              "          0,   0],\n",
              "       [  0,   0,   0,   0,   0,   0,   0,   0,   0,   0,   0,  11, 190,\n",
              "        253,  70,   0,   0,   0,   0,   0,   0,   0,   0,   0,   0,   0,\n",
              "          0,   0],\n",
              "       [  0,   0,   0,   0,   0,   0,   0,   0,   0,   0,   0,   0,  35,\n",
              "        241, 225, 160, 108,   1,   0,   0,   0,   0,   0,   0,   0,   0,\n",
              "          0,   0],\n",
              "       [  0,   0,   0,   0,   0,   0,   0,   0,   0,   0,   0,   0,   0,\n",
              "         81, 240, 253, 253, 119,  25,   0,   0,   0,   0,   0,   0,   0,\n",
              "          0,   0],\n",
              "       [  0,   0,   0,   0,   0,   0,   0,   0,   0,   0,   0,   0,   0,\n",
              "          0,  45, 186, 253, 253, 150,  27,   0,   0,   0,   0,   0,   0,\n",
              "          0,   0],\n",
              "       [  0,   0,   0,   0,   0,   0,   0,   0,   0,   0,   0,   0,   0,\n",
              "          0,   0,  16,  93, 252, 253, 187,   0,   0,   0,   0,   0,   0,\n",
              "          0,   0],\n",
              "       [  0,   0,   0,   0,   0,   0,   0,   0,   0,   0,   0,   0,   0,\n",
              "          0,   0,   0,   0, 249, 253, 249,  64,   0,   0,   0,   0,   0,\n",
              "          0,   0],\n",
              "       [  0,   0,   0,   0,   0,   0,   0,   0,   0,   0,   0,   0,   0,\n",
              "          0,  46, 130, 183, 253, 253, 207,   2,   0,   0,   0,   0,   0,\n",
              "          0,   0],\n",
              "       [  0,   0,   0,   0,   0,   0,   0,   0,   0,   0,   0,   0,  39,\n",
              "        148, 229, 253, 253, 253, 250, 182,   0,   0,   0,   0,   0,   0,\n",
              "          0,   0],\n",
              "       [  0,   0,   0,   0,   0,   0,   0,   0,   0,   0,  24, 114, 221,\n",
              "        253, 253, 253, 253, 201,  78,   0,   0,   0,   0,   0,   0,   0,\n",
              "          0,   0],\n",
              "       [  0,   0,   0,   0,   0,   0,   0,   0,  23,  66, 213, 253, 253,\n",
              "        253, 253, 198,  81,   2,   0,   0,   0,   0,   0,   0,   0,   0,\n",
              "          0,   0],\n",
              "       [  0,   0,   0,   0,   0,   0,  18, 171, 219, 253, 253, 253, 253,\n",
              "        195,  80,   9,   0,   0,   0,   0,   0,   0,   0,   0,   0,   0,\n",
              "          0,   0],\n",
              "       [  0,   0,   0,   0,  55, 172, 226, 253, 253, 253, 253, 244, 133,\n",
              "         11,   0,   0,   0,   0,   0,   0,   0,   0,   0,   0,   0,   0,\n",
              "          0,   0],\n",
              "       [  0,   0,   0,   0, 136, 253, 253, 253, 212, 135, 132,  16,   0,\n",
              "          0,   0,   0,   0,   0,   0,   0,   0,   0,   0,   0,   0,   0,\n",
              "          0,   0],\n",
              "       [  0,   0,   0,   0,   0,   0,   0,   0,   0,   0,   0,   0,   0,\n",
              "          0,   0,   0,   0,   0,   0,   0,   0,   0,   0,   0,   0,   0,\n",
              "          0,   0],\n",
              "       [  0,   0,   0,   0,   0,   0,   0,   0,   0,   0,   0,   0,   0,\n",
              "          0,   0,   0,   0,   0,   0,   0,   0,   0,   0,   0,   0,   0,\n",
              "          0,   0],\n",
              "       [  0,   0,   0,   0,   0,   0,   0,   0,   0,   0,   0,   0,   0,\n",
              "          0,   0,   0,   0,   0,   0,   0,   0,   0,   0,   0,   0,   0,\n",
              "          0,   0]], dtype=uint8)"
            ]
          },
          "execution_count": 5,
          "metadata": {},
          "output_type": "execute_result"
        }
      ],
      "source": [
        "X_train[0]"
      ]
    },
    {
      "cell_type": "code",
      "execution_count": null,
      "metadata": {
        "colab": {
          "base_uri": "https://localhost:8080/"
        },
        "id": "lWrDIf6mOQrf",
        "outputId": "b783bd85-1b61-402a-f7b2-2809b166934a"
      },
      "outputs": [
        {
          "data": {
            "text/plain": [
              "(28, 28)"
            ]
          },
          "execution_count": 6,
          "metadata": {},
          "output_type": "execute_result"
        }
      ],
      "source": [
        "X_train[0].shape"
      ]
    },
    {
      "cell_type": "markdown",
      "metadata": {
        "id": "gusgpLECE2w-"
      },
      "source": [
        "### Function to show some training images."
      ]
    },
    {
      "cell_type": "code",
      "execution_count": null,
      "metadata": {
        "id": "-151NVZ-OrDq"
      },
      "outputs": [],
      "source": [
        "import matplotlib.pyplot as plt\n",
        "def show_data(data, target):\n",
        "  length = len(data)\n",
        "  if length % 2 != 0:\n",
        "    length += 1\n",
        "  \n",
        "  fig, axis = plt.subplots(5, 5, figsize=(10,10))\n",
        "  for x in range(5):\n",
        "    for y in range(5):\n",
        "      axis[x, y].imshow(data[x  + y], cmap=\"gray\")\n",
        "      axis[x, y].set_title(target[x + y])\n",
        "  fig.tight_layout()\n",
        "  plt.show()"
      ]
    },
    {
      "cell_type": "code",
      "execution_count": null,
      "metadata": {
        "colab": {
          "base_uri": "https://localhost:8080/",
          "height": 729
        },
        "id": "svrpfloaQzpo",
        "outputId": "6a3b29ed-fbfc-4c6d-9ab2-b407df7e2ebd"
      },
      "outputs": [
        {
          "data": {
            "image/png": "[encoded data removed]",
            "text/plain": [
              "<Figure size 720x720 with 25 Axes>"
            ]
          },
          "metadata": {},
          "output_type": "display_data"
        }
      ],
      "source": [
        "\n",
        "show_data(X_train[:25], y_train[:25])"
      ]
    },
    {
      "cell_type": "markdown",
      "metadata": {
        "id": "Cw1jKJzHE_a1"
      },
      "source": [
        "### Normalizing the data"
      ]
    },
    {
      "cell_type": "code",
      "execution_count": null,
      "metadata": {
        "id": "MOq7Pz6UQ8AH"
      },
      "outputs": [],
      "source": [
        "X_train = X_train/255.0\n",
        "X_test = X_test/255.0"
      ]
    },
    {
      "cell_type": "code",
      "execution_count": null,
      "metadata": {
        "colab": {
          "base_uri": "https://localhost:8080/"
        },
        "id": "b--RQD07TkKo",
        "outputId": "3ea6848c-f070-4318-cf9c-0c2262893563"
      },
      "outputs": [
        {
          "data": {
            "text/plain": [
              "((60000, 28, 28), (10000, 28, 28))"
            ]
          },
          "execution_count": 10,
          "metadata": {},
          "output_type": "execute_result"
        }
      ],
      "source": [
        "X_train.shape, X_test.shape"
      ]
    },
    {
      "cell_type": "markdown",
      "metadata": {
        "id": "mQq4H8VFFDfZ"
      },
      "source": [
        "### Changing the categories to one-hot vector."
      ]
    },
    {
      "cell_type": "code",
      "execution_count": null,
      "metadata": {
        "colab": {
          "base_uri": "https://localhost:8080/"
        },
        "id": "GERnZLnRqhhO",
        "outputId": "5fb74450-0c4f-4cd0-fa98-6f65439743c9"
      },
      "outputs": [
        {
          "data": {
            "text/plain": [
              "(60000, 10)"
            ]
          },
          "execution_count": 11,
          "metadata": {},
          "output_type": "execute_result"
        }
      ],
      "source": [
        "from sklearn.preprocessing import OneHotEncoder\n",
        "enc = OneHotEncoder()\n",
        "enc.fit(y_train.reshape(-1, 1))\n",
        "onehotLabels = enc.transform(y_train.reshape(-1, 1)).toarray()\n",
        "onehotLabels.shape"
      ]
    },
    {
      "cell_type": "code",
      "execution_count": null,
      "metadata": {
        "colab": {
          "base_uri": "https://localhost:8080/"
        },
        "id": "WOUsMc0ctokD",
        "outputId": "7f5023cb-88ff-44f1-f365-4e16ca3023d4"
      },
      "outputs": [
        {
          "data": {
            "text/plain": [
              "(array([0., 0., 0., 0., 0., 1., 0., 0., 0., 0.]), 5)"
            ]
          },
          "execution_count": 12,
          "metadata": {},
          "output_type": "execute_result"
        }
      ],
      "source": [
        "onehotLabels[0], y_train[0]"
      ]
    },
    {
      "cell_type": "code",
      "execution_count": null,
      "metadata": {
        "id": "7Uu8DbXQTuKB"
      },
      "outputs": [],
      "source": [
        "\n"
      ]
    },
    {
      "cell_type": "markdown",
      "metadata": {
        "id": "KUtTyntZFYpN"
      },
      "source": [
        "## LENET-5 model"
      ]
    },
    {
      "cell_type": "code",
      "execution_count": null,
      "metadata": {
        "id": "tPP5IQVqU8pl"
      },
      "outputs": [],
      "source": [
        "model = keras.Sequential()\n",
        "model.add(\n",
        "    Conv2D(6, kernel_size=(5,5),padding=\"same\", strides=1, activation=\"sigmoid\", input_shape=(28, 28,1))\n",
        ")\n",
        "model.add(\n",
        "    layers.AveragePooling2D(pool_size=(2,2), strides=2, padding=\"valid\", )\n",
        ")\n",
        "model.add( \n",
        "    Conv2D(16, (5,5), activation=\"sigmoid\")\n",
        ")\n",
        "model.add( \n",
        "    layers.AveragePooling2D(2, 2)\n",
        ")\n",
        "model.add(\n",
        "    layers.Flatten()\n",
        ")\n",
        "\n",
        "model.add(\n",
        "    layers.Dense(120, activation=\"sigmoid\")\n",
        ")\n",
        "model.add (\n",
        "    layers.Dense(84, activation=\"sigmoid\")\n",
        ")\n",
        "model.add(\n",
        "     layers.Dense(10)\n",
        ")\n"
      ]
    },
    {
      "cell_type": "code",
      "execution_count": null,
      "metadata": {
        "colab": {
          "base_uri": "https://localhost:8080/"
        },
        "id": "TFLBcGa1V0ny",
        "outputId": "a9e8e4bd-9ba3-4c83-f9b3-78c185cf7e71"
      },
      "outputs": [
        {
          "name": "stdout",
          "output_type": "stream",
          "text": [
            "Model: \"sequential\"\n",
            "_________________________________________________________________\n",
            " Layer (type)                Output Shape              Param #   \n",
            "=================================================================\n",
            " conv2d (Conv2D)             (None, 28, 28, 6)         156       \n",
            "                                                                 \n",
            " average_pooling2d (AverageP  (None, 14, 14, 6)        0         \n",
            " ooling2D)                                                       \n",
            "                                                                 \n",
            " conv2d_1 (Conv2D)           (None, 10, 10, 16)        2416      \n",
            "                                                                 \n",
            " average_pooling2d_1 (Averag  (None, 5, 5, 16)         0         \n",
            " ePooling2D)                                                     \n",
            "                                                                 \n",
            " flatten (Flatten)           (None, 400)               0         \n",
            "                                                                 \n",
            " dense (Dense)               (None, 120)               48120     \n",
            "                                                                 \n",
            " dense_1 (Dense)             (None, 84)                10164     \n",
            "                                                                 \n",
            " dense_2 (Dense)             (None, 10)                850       \n",
            "                                                                 \n",
            "=================================================================\n",
            "Total params: 61,706\n",
            "Trainable params: 61,706\n",
            "Non-trainable params: 0\n",
            "_________________________________________________________________\n"
          ]
        }
      ],
      "source": [
        "model.summary()"
      ]
    },
    {
      "cell_type": "code",
      "execution_count": null,
      "metadata": {
        "id": "XhzDMV2zcwJB"
      },
      "outputs": [],
      "source": [
        "model.compile(loss=\"mean_squared_error\", metrics=\"accuracy\")"
      ]
    },
    {
      "cell_type": "markdown",
      "metadata": {
        "id": "2hRR0zC1Fed0"
      },
      "source": [
        ""
      ]
    },
    {
      "cell_type": "code",
      "execution_count": null,
      "metadata": {
        "colab": {
          "background_save": true,
          "base_uri": "https://localhost:8080/"
        },
        "id": "DjRaZaT_gbbD",
        "outputId": "46bc12f0-0fd2-4168-879f-7b7af5b71049"
      },
      "outputs": [
        {
          "name": "stdout",
          "output_type": "stream",
          "text": [
            "Epoch 1/100\n",
            "94/94 [==============================] - 25s 246ms/step - loss: 0.0966 - accuracy: 0.0999 - val_loss: 0.0925 - val_accuracy: 0.1914\n",
            "Epoch 2/100\n",
            "94/94 [==============================] - 24s 256ms/step - loss: 0.0915 - accuracy: 0.1232 - val_loss: 0.0906 - val_accuracy: 0.1749\n",
            "Epoch 3/100\n",
            "94/94 [==============================] - 23s 245ms/step - loss: 0.0834 - accuracy: 0.3047 - val_loss: 0.0739 - val_accuracy: 0.4947\n",
            "Epoch 4/100\n",
            "94/94 [==============================] - 23s 244ms/step - loss: 0.0680 - accuracy: 0.5916 - val_loss: 0.0614 - val_accuracy: 0.6775\n",
            "Epoch 5/100\n",
            "94/94 [==============================] - 23s 244ms/step - loss: 0.0594 - accuracy: 0.6947 - val_loss: 0.0523 - val_accuracy: 0.7276\n",
            "Epoch 6/100\n",
            "94/94 [==============================] - 23s 244ms/step - loss: 0.0534 - accuracy: 0.7472 - val_loss: 0.0474 - val_accuracy: 0.8258\n",
            "Epoch 7/100\n",
            "94/94 [==============================] - 23s 243ms/step - loss: 0.0481 - accuracy: 0.7846 - val_loss: 0.0433 - val_accuracy: 0.8300\n",
            "Epoch 8/100\n",
            "94/94 [==============================] - 23s 244ms/step - loss: 0.0429 - accuracy: 0.8120 - val_loss: 0.0403 - val_accuracy: 0.8203\n",
            "Epoch 9/100\n",
            "94/94 [==============================] - 23s 244ms/step - loss: 0.0381 - accuracy: 0.8378 - val_loss: 0.0331 - val_accuracy: 0.8608\n",
            "Epoch 10/100\n",
            "94/94 [==============================] - 23s 245ms/step - loss: 0.0337 - accuracy: 0.8574 - val_loss: 0.0312 - val_accuracy: 0.8791\n",
            "Epoch 11/100\n",
            "94/94 [==============================] - 23s 244ms/step - loss: 0.0301 - accuracy: 0.8725 - val_loss: 0.0268 - val_accuracy: 0.8888\n",
            "Epoch 12/100\n",
            "94/94 [==============================] - 23s 243ms/step - loss: 0.0268 - accuracy: 0.8890 - val_loss: 0.0233 - val_accuracy: 0.9045\n",
            "Epoch 13/100\n",
            "94/94 [==============================] - 23s 243ms/step - loss: 0.0241 - accuracy: 0.8986 - val_loss: 0.0218 - val_accuracy: 0.9197\n",
            "Epoch 14/100\n",
            "94/94 [==============================] - 23s 244ms/step - loss: 0.0219 - accuracy: 0.9067 - val_loss: 0.0196 - val_accuracy: 0.9193\n",
            "Epoch 15/100\n",
            "94/94 [==============================] - 23s 243ms/step - loss: 0.0201 - accuracy: 0.9143 - val_loss: 0.0175 - val_accuracy: 0.9262\n",
            "Epoch 16/100\n",
            "94/94 [==============================] - 23s 243ms/step - loss: 0.0186 - accuracy: 0.9191 - val_loss: 0.0168 - val_accuracy: 0.9327\n",
            "Epoch 17/100\n",
            "94/94 [==============================] - 26s 273ms/step - loss: 0.0173 - accuracy: 0.9253 - val_loss: 0.0182 - val_accuracy: 0.9293\n",
            "Epoch 18/100\n",
            "94/94 [==============================] - 25s 266ms/step - loss: 0.0163 - accuracy: 0.9304 - val_loss: 0.0140 - val_accuracy: 0.9412\n",
            "Epoch 19/100\n",
            "94/94 [==============================] - 23s 243ms/step - loss: 0.0154 - accuracy: 0.9342 - val_loss: 0.0141 - val_accuracy: 0.9435\n",
            "Epoch 20/100\n",
            "94/94 [==============================] - 23s 243ms/step - loss: 0.0145 - accuracy: 0.9386 - val_loss: 0.0129 - val_accuracy: 0.9473\n",
            "Epoch 21/100\n",
            "94/94 [==============================] - 23s 244ms/step - loss: 0.0138 - accuracy: 0.9417 - val_loss: 0.0137 - val_accuracy: 0.9456\n",
            "Epoch 22/100\n",
            "94/94 [==============================] - 23s 247ms/step - loss: 0.0131 - accuracy: 0.9459 - val_loss: 0.0123 - val_accuracy: 0.9519\n",
            "Epoch 23/100\n",
            "94/94 [==============================] - 23s 244ms/step - loss: 0.0125 - accuracy: 0.9482 - val_loss: 0.0110 - val_accuracy: 0.9560\n",
            "Epoch 24/100\n",
            "94/94 [==============================] - 23s 244ms/step - loss: 0.0119 - accuracy: 0.9515 - val_loss: 0.0115 - val_accuracy: 0.9555\n",
            "Epoch 25/100\n",
            "94/94 [==============================] - 23s 244ms/step - loss: 0.0114 - accuracy: 0.9544 - val_loss: 0.0103 - val_accuracy: 0.9572\n",
            "Epoch 26/100\n",
            "94/94 [==============================] - 23s 243ms/step - loss: 0.0109 - accuracy: 0.9563 - val_loss: 0.0100 - val_accuracy: 0.9607\n",
            "Epoch 27/100\n",
            "94/94 [==============================] - 23s 244ms/step - loss: 0.0105 - accuracy: 0.9583 - val_loss: 0.0103 - val_accuracy: 0.9595\n",
            "Epoch 28/100\n",
            "94/94 [==============================] - 23s 242ms/step - loss: 0.0100 - accuracy: 0.9604 - val_loss: 0.0108 - val_accuracy: 0.9617\n",
            "Epoch 29/100\n",
            "94/94 [==============================] - 23s 243ms/step - loss: 0.0097 - accuracy: 0.9621 - val_loss: 0.0088 - val_accuracy: 0.9648\n",
            "Epoch 30/100\n",
            "94/94 [==============================] - 23s 245ms/step - loss: 0.0093 - accuracy: 0.9637 - val_loss: 0.0087 - val_accuracy: 0.9669\n",
            "Epoch 31/100\n",
            "94/94 [==============================] - 22s 239ms/step - loss: 0.0090 - accuracy: 0.9655 - val_loss: 0.0097 - val_accuracy: 0.9653\n",
            "Epoch 32/100\n",
            "94/94 [==============================] - 22s 239ms/step - loss: 0.0087 - accuracy: 0.9670 - val_loss: 0.0082 - val_accuracy: 0.9692\n",
            "Epoch 33/100\n",
            "94/94 [==============================] - 22s 239ms/step - loss: 0.0084 - accuracy: 0.9680 - val_loss: 0.0076 - val_accuracy: 0.9703\n",
            "Epoch 34/100\n",
            "94/94 [==============================] - 22s 239ms/step - loss: 0.0082 - accuracy: 0.9692 - val_loss: 0.0082 - val_accuracy: 0.9688\n",
            "Epoch 35/100\n",
            "94/94 [==============================] - 22s 239ms/step - loss: 0.0079 - accuracy: 0.9708 - val_loss: 0.0072 - val_accuracy: 0.9716\n",
            "Epoch 36/100\n",
            "94/94 [==============================] - 23s 240ms/step - loss: 0.0077 - accuracy: 0.9715 - val_loss: 0.0071 - val_accuracy: 0.9729\n",
            "Epoch 37/100\n",
            "94/94 [==============================] - 23s 241ms/step - loss: 0.0075 - accuracy: 0.9720 - val_loss: 0.0071 - val_accuracy: 0.9737\n",
            "Epoch 38/100\n",
            "94/94 [==============================] - 23s 240ms/step - loss: 0.0073 - accuracy: 0.9736 - val_loss: 0.0069 - val_accuracy: 0.9743\n",
            "Epoch 39/100\n",
            "94/94 [==============================] - 22s 239ms/step - loss: 0.0071 - accuracy: 0.9743 - val_loss: 0.0071 - val_accuracy: 0.9740\n",
            "Epoch 40/100\n",
            "94/94 [==============================] - 23s 240ms/step - loss: 0.0069 - accuracy: 0.9749 - val_loss: 0.0066 - val_accuracy: 0.9758\n",
            "Epoch 41/100\n",
            "94/94 [==============================] - 22s 240ms/step - loss: 0.0067 - accuracy: 0.9761 - val_loss: 0.0066 - val_accuracy: 0.9764\n",
            "Epoch 42/100\n",
            "94/94 [==============================] - 23s 240ms/step - loss: 0.0066 - accuracy: 0.9768 - val_loss: 0.0068 - val_accuracy: 0.9764\n",
            "Epoch 43/100\n",
            "94/94 [==============================] - 22s 239ms/step - loss: 0.0064 - accuracy: 0.9769 - val_loss: 0.0061 - val_accuracy: 0.9778\n",
            "Epoch 44/100\n",
            "94/94 [==============================] - 22s 239ms/step - loss: 0.0062 - accuracy: 0.9781 - val_loss: 0.0059 - val_accuracy: 0.9778\n",
            "Epoch 45/100\n",
            "94/94 [==============================] - 22s 239ms/step - loss: 0.0061 - accuracy: 0.9786 - val_loss: 0.0063 - val_accuracy: 0.9776\n",
            "Epoch 46/100\n",
            "94/94 [==============================] - 22s 239ms/step - loss: 0.0060 - accuracy: 0.9791 - val_loss: 0.0060 - val_accuracy: 0.9790\n",
            "Epoch 47/100\n",
            "94/94 [==============================] - 22s 239ms/step - loss: 0.0059 - accuracy: 0.9794 - val_loss: 0.0060 - val_accuracy: 0.9787\n",
            "Epoch 48/100\n",
            "94/94 [==============================] - 22s 239ms/step - loss: 0.0057 - accuracy: 0.9804 - val_loss: 0.0058 - val_accuracy: 0.9800\n",
            "Epoch 49/100\n",
            "94/94 [==============================] - 22s 240ms/step - loss: 0.0056 - accuracy: 0.9801 - val_loss: 0.0064 - val_accuracy: 0.9797\n",
            "Epoch 50/100\n",
            "94/94 [==============================] - 23s 240ms/step - loss: 0.0055 - accuracy: 0.9810 - val_loss: 0.0057 - val_accuracy: 0.9812\n",
            "Epoch 51/100\n",
            "94/94 [==============================] - 23s 241ms/step - loss: 0.0053 - accuracy: 0.9818 - val_loss: 0.0049 - val_accuracy: 0.9810\n",
            "Epoch 52/100\n",
            "94/94 [==============================] - 23s 240ms/step - loss: 0.0053 - accuracy: 0.9822 - val_loss: 0.0057 - val_accuracy: 0.9811\n",
            "Epoch 53/100\n",
            "94/94 [==============================] - 23s 240ms/step - loss: 0.0052 - accuracy: 0.9821 - val_loss: 0.0052 - val_accuracy: 0.9803\n",
            "Epoch 54/100\n",
            "94/94 [==============================] - 23s 241ms/step - loss: 0.0051 - accuracy: 0.9829 - val_loss: 0.0051 - val_accuracy: 0.9822\n",
            "Epoch 55/100\n",
            "94/94 [==============================] - 23s 240ms/step - loss: 0.0050 - accuracy: 0.9832 - val_loss: 0.0052 - val_accuracy: 0.9807\n",
            "Epoch 56/100\n",
            "94/94 [==============================] - 23s 240ms/step - loss: 0.0049 - accuracy: 0.9834 - val_loss: 0.0055 - val_accuracy: 0.9803\n",
            "Epoch 57/100\n",
            "94/94 [==============================] - 23s 240ms/step - loss: 0.0048 - accuracy: 0.9837 - val_loss: 0.0052 - val_accuracy: 0.9809\n",
            "Epoch 58/100\n",
            "94/94 [==============================] - 23s 243ms/step - loss: 0.0047 - accuracy: 0.9843 - val_loss: 0.0051 - val_accuracy: 0.9814\n",
            "Epoch 59/100\n",
            "94/94 [==============================] - 23s 241ms/step - loss: 0.0046 - accuracy: 0.9842 - val_loss: 0.0046 - val_accuracy: 0.9823\n",
            "Epoch 60/100\n",
            "94/94 [==============================] - 23s 241ms/step - loss: 0.0045 - accuracy: 0.9844 - val_loss: 0.0054 - val_accuracy: 0.9818\n",
            "Epoch 61/100\n",
            "94/94 [==============================] - 23s 240ms/step - loss: 0.0044 - accuracy: 0.9850 - val_loss: 0.0049 - val_accuracy: 0.9831\n",
            "Epoch 62/100\n",
            "94/94 [==============================] - 23s 240ms/step - loss: 0.0044 - accuracy: 0.9852 - val_loss: 0.0047 - val_accuracy: 0.9831\n",
            "Epoch 63/100\n",
            "94/94 [==============================] - 23s 240ms/step - loss: 0.0043 - accuracy: 0.9853 - val_loss: 0.0043 - val_accuracy: 0.9837\n",
            "Epoch 64/100\n",
            "94/94 [==============================] - 23s 241ms/step - loss: 0.0042 - accuracy: 0.9859 - val_loss: 0.0045 - val_accuracy: 0.9842\n",
            "Epoch 65/100\n",
            "94/94 [==============================] - 23s 242ms/step - loss: 0.0042 - accuracy: 0.9858 - val_loss: 0.0043 - val_accuracy: 0.9840\n",
            "Epoch 66/100\n",
            "94/94 [==============================] - 23s 241ms/step - loss: 0.0041 - accuracy: 0.9861 - val_loss: 0.0042 - val_accuracy: 0.9844\n",
            "Epoch 67/100\n",
            "94/94 [==============================] - 23s 241ms/step - loss: 0.0040 - accuracy: 0.9864 - val_loss: 0.0041 - val_accuracy: 0.9841\n",
            "Epoch 68/100\n",
            "94/94 [==============================] - 23s 241ms/step - loss: 0.0040 - accuracy: 0.9863 - val_loss: 0.0046 - val_accuracy: 0.9840\n",
            "Epoch 69/100\n",
            "94/94 [==============================] - 23s 241ms/step - loss: 0.0039 - accuracy: 0.9865 - val_loss: 0.0043 - val_accuracy: 0.9845\n",
            "Epoch 70/100\n",
            "94/94 [==============================] - 23s 241ms/step - loss: 0.0038 - accuracy: 0.9870 - val_loss: 0.0041 - val_accuracy: 0.9845\n",
            "Epoch 71/100\n",
            "94/94 [==============================] - 23s 240ms/step - loss: 0.0038 - accuracy: 0.9873 - val_loss: 0.0046 - val_accuracy: 0.9838\n",
            "Epoch 72/100\n",
            "94/94 [==============================] - 23s 240ms/step - loss: 0.0037 - accuracy: 0.9872 - val_loss: 0.0040 - val_accuracy: 0.9864\n",
            "Epoch 73/100\n",
            "94/94 [==============================] - 23s 241ms/step - loss: 0.0036 - accuracy: 0.9879 - val_loss: 0.0040 - val_accuracy: 0.9849\n",
            "Epoch 74/100\n",
            "94/94 [==============================] - 23s 241ms/step - loss: 0.0036 - accuracy: 0.9877 - val_loss: 0.0039 - val_accuracy: 0.9850\n",
            "Epoch 75/100\n",
            "94/94 [==============================] - 23s 240ms/step - loss: 0.0035 - accuracy: 0.9880 - val_loss: 0.0037 - val_accuracy: 0.9852\n",
            "Epoch 76/100\n",
            "94/94 [==============================] - 23s 241ms/step - loss: 0.0035 - accuracy: 0.9881 - val_loss: 0.0039 - val_accuracy: 0.9846\n",
            "Epoch 77/100\n",
            "94/94 [==============================] - 23s 241ms/step - loss: 0.0035 - accuracy: 0.9881 - val_loss: 0.0039 - val_accuracy: 0.9850\n",
            "Epoch 78/100\n",
            "94/94 [==============================] - 23s 241ms/step - loss: 0.0034 - accuracy: 0.9883 - val_loss: 0.0037 - val_accuracy: 0.9852\n",
            "Epoch 79/100\n",
            "94/94 [==============================] - 23s 241ms/step - loss: 0.0033 - accuracy: 0.9886 - val_loss: 0.0039 - val_accuracy: 0.9863\n",
            "Epoch 80/100\n",
            "94/94 [==============================] - 23s 241ms/step - loss: 0.0033 - accuracy: 0.9890 - val_loss: 0.0036 - val_accuracy: 0.9862\n",
            "Epoch 81/100\n",
            "94/94 [==============================] - 23s 240ms/step - loss: 0.0032 - accuracy: 0.9888 - val_loss: 0.0036 - val_accuracy: 0.9863\n",
            "Epoch 82/100\n",
            "94/94 [==============================] - 23s 241ms/step - loss: 0.0032 - accuracy: 0.9891 - val_loss: 0.0034 - val_accuracy: 0.9869\n",
            "Epoch 83/100\n",
            "94/94 [==============================] - 23s 241ms/step - loss: 0.0031 - accuracy: 0.9897 - val_loss: 0.0034 - val_accuracy: 0.9868\n",
            "Epoch 84/100\n",
            "94/94 [==============================] - 23s 241ms/step - loss: 0.0031 - accuracy: 0.9893 - val_loss: 0.0035 - val_accuracy: 0.9868\n",
            "Epoch 85/100\n",
            "94/94 [==============================] - 23s 240ms/step - loss: 0.0031 - accuracy: 0.9898 - val_loss: 0.0034 - val_accuracy: 0.9865\n",
            "Epoch 86/100\n",
            "94/94 [==============================] - 23s 240ms/step - loss: 0.0030 - accuracy: 0.9899 - val_loss: 0.0034 - val_accuracy: 0.9870\n",
            "Epoch 87/100\n",
            "94/94 [==============================] - 23s 241ms/step - loss: 0.0030 - accuracy: 0.9897 - val_loss: 0.0039 - val_accuracy: 0.9872\n",
            "Epoch 88/100\n",
            "94/94 [==============================] - 23s 241ms/step - loss: 0.0029 - accuracy: 0.9898 - val_loss: 0.0033 - val_accuracy: 0.9868\n",
            "Epoch 89/100\n",
            "94/94 [==============================] - 23s 240ms/step - loss: 0.0029 - accuracy: 0.9904 - val_loss: 0.0038 - val_accuracy: 0.9856\n",
            "Epoch 90/100\n",
            "94/94 [==============================] - 23s 241ms/step - loss: 0.0029 - accuracy: 0.9903 - val_loss: 0.0033 - val_accuracy: 0.9875\n",
            "Epoch 91/100\n",
            "94/94 [==============================] - 23s 241ms/step - loss: 0.0028 - accuracy: 0.9905 - val_loss: 0.0032 - val_accuracy: 0.9872\n",
            "Epoch 92/100\n",
            "94/94 [==============================] - 23s 241ms/step - loss: 0.0028 - accuracy: 0.9905 - val_loss: 0.0031 - val_accuracy: 0.9872\n",
            "Epoch 93/100\n",
            "94/94 [==============================] - 23s 243ms/step - loss: 0.0027 - accuracy: 0.9908 - val_loss: 0.0035 - val_accuracy: 0.9868\n",
            "Epoch 94/100\n",
            "94/94 [==============================] - 23s 241ms/step - loss: 0.0027 - accuracy: 0.9909 - val_loss: 0.0032 - val_accuracy: 0.9871\n",
            "Epoch 95/100\n",
            "94/94 [==============================] - 23s 240ms/step - loss: 0.0027 - accuracy: 0.9909 - val_loss: 0.0031 - val_accuracy: 0.9872\n",
            "Epoch 96/100\n",
            "94/94 [==============================] - 23s 241ms/step - loss: 0.0026 - accuracy: 0.9913 - val_loss: 0.0031 - val_accuracy: 0.9875\n",
            "Epoch 97/100\n",
            "94/94 [==============================] - 23s 241ms/step - loss: 0.0026 - accuracy: 0.9914 - val_loss: 0.0031 - val_accuracy: 0.9877\n",
            "Epoch 98/100\n",
            "94/94 [==============================] - 23s 242ms/step - loss: 0.0025 - accuracy: 0.9913 - val_loss: 0.0029 - val_accuracy: 0.9881\n",
            "Epoch 99/100\n",
            "94/94 [==============================] - 23s 241ms/step - loss: 0.0025 - accuracy: 0.9914 - val_loss: 0.0030 - val_accuracy: 0.9876\n",
            "Epoch 100/100\n",
            "94/94 [==============================] - 23s 243ms/step - loss: 0.0025 - accuracy: 0.9914 - val_loss: 0.0030 - val_accuracy: 0.9877\n"
          ]
        },
        {
          "data": {
            "text/plain": [
              "<keras.callbacks.History at 0x7f9e9669b3d0>"
            ]
          },
          "execution_count": null,
          "metadata": {},
          "output_type": "execute_result"
        }
      ],
      "source": [
        "history = model.fit(X_train, onehotLabels, batch_size=512, validation_split=0.2, epochs=100)"
      ]
    },
    {
      "cell_type": "code",
      "execution_count": null,
      "metadata": {
        "colab": {
          "base_uri": "https://localhost:8080/"
        },
        "id": "6kdqiqn8glFJ",
        "outputId": "13c9d964-9b33-4b20-e800-51293f0beb12"
      },
      "outputs": [
        {
          "name": "stdout",
          "output_type": "stream",
          "text": [
            "79/79 [==============================] - 0s 4ms/step - loss: 0.0029 - accuracy: 0.9881\n"
          ]
        }
      ],
      "source": [
        "onehotTest = enc.transform(y_test.reshape(-1, 1)).toarray()\n",
        "\n",
        "results = model.evaluate(X_test, onehotTest, batch_size=128)"
      ]
    },
    {
      "cell_type": "code",
      "execution_count": null,
      "metadata": {
        "colab": {
          "base_uri": "https://localhost:8080/"
        },
        "id": "Y5aalS86k66h",
        "outputId": "4afb4bc7-91a8-4dda-bd9a-fb764db9f7cd"
      },
      "outputs": [
        {
          "name": "stdout",
          "output_type": "stream",
          "text": [
            "test loss, test acc: [0.0028765720780938864, 0.988099992275238]\n"
          ]
        }
      ],
      "source": [
        "print('test loss, test acc:', results)"
      ]
    },
    {
      "cell_type": "code",
      "execution_count": null,
      "metadata": {
        "colab": {
          "base_uri": "https://localhost:8080/"
        },
        "id": "wCdOKXIYozyV",
        "outputId": "6b5cf6d6-8eb6-4264-d28b-0d03af53dc11"
      },
      "outputs": [
        {
          "data": {
            "text/plain": [
              "(0, 0)"
            ]
          },
          "execution_count": 19,
          "metadata": {},
          "output_type": "execute_result"
        }
      ],
      "source": [
        "predict = model.predict(X_test[10].reshape(1, 28,28, 1))\n",
        "predict.argmax(), y_test[10]"
      ]
    },
    {
      "cell_type": "markdown",
      "metadata": {
        "id": "Dm4sstxwFgop"
      },
      "source": [
        "## Function to show the prediction image along with the actual value "
      ]
    },
    {
      "cell_type": "code",
      "execution_count": null,
      "metadata": {
        "id": "_olZT0BDvGj5"
      },
      "outputs": [],
      "source": [
        "def show_predictions(image, y):\n",
        "  predict = model.predict(image.reshape(1, 28, 28, 1))\n",
        "  plt.figure(figsize=(3,3))\n",
        "  plt.imshow(image, cmap=\"gray\", interpolation=\"nearest\")\n",
        "  plt.title(f\"Predicted: {predict.argmax()} Actual: {y}\")\n",
        "  plt.tight_layout()\n",
        "  plt.show()\n"
      ]
    },
    {
      "cell_type": "code",
      "execution_count": null,
      "metadata": {
        "colab": {
          "base_uri": "https://localhost:8080/",
          "height": 225
        },
        "id": "4mnnjmb7woeC",
        "outputId": "1fc57829-6703-45a4-ff5d-5fc9bb183bc6"
      },
      "outputs": [
        {
          "data": {
            "image/png": "[encoded data removed]",
            "text/plain": [
              "<Figure size 216x216 with 1 Axes>"
            ]
          },
          "metadata": {},
          "output_type": "display_data"
        }
      ],
      "source": [
        "show_predictions(X_test[103], y_test[103])"
      ]
    },
    {
      "cell_type": "code",
      "execution_count": null,
      "metadata": {
        "colab": {
          "base_uri": "https://localhost:8080/"
        },
        "id": "xkLGn_pHwsMM",
        "outputId": "7d58d337-8b52-4609-e8d2-212808cde959"
      },
      "outputs": [
        {
          "name": "stdout",
          "output_type": "stream",
          "text": [
            "INFO:tensorflow:Assets written to: ram://915533cb-eaaf-4ca9-95e6-ba81b4485d4b/assets\n"
          ]
        }
      ],
      "source": [
        "import pickle \n",
        "\n",
        "with open(\"history.pkl\", \"wb\") as pick:\n",
        "  pickle.dump(history, pick)"
      ]
    },
    {
      "cell_type": "code",
      "execution_count": null,
      "metadata": {
        "id": "ZT4fnPRZvZ1b"
      },
      "outputs": [],
      "source": [
        "model.save(\"number_model.h5\")"
      ]
    },
    {
      "cell_type": "code",
      "execution_count": null,
      "metadata": {
        "id": "Pk0Jp3qFvjm4"
      },
      "outputs": [],
      "source": [
        ""
      ]
    }
  ],
  "metadata": {
    "accelerator": "GPU",
    "colab": {
      "name": "LENET.ipynb",
      "provenance": []
    },
    "kernelspec": {
      "display_name": "Python 3",
      "name": "python3"
    },
    "language_info": {
      "name": "python"
    }
  },
  "nbformat": 4,
  "nbformat_minor": 0
}